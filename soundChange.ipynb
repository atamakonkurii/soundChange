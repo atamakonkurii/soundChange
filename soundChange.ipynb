{
 "cells": [
  {
   "cell_type": "code",
   "execution_count": 40,
   "metadata": {},
   "outputs": [],
   "source": [
    "import glob\n",
    "import os\n",
    "import subprocess\n",
    "import librosa\n",
    "import soundfile\n",
    "import librosa.display\n",
    "\n",
    "#\n",
    "DIR_m4a = './soundJapanese/m4a'\n",
    "DIR_wav = './soundJapanese/wav'\n",
    "\n",
    "filename_m4a = glob.glob(DIR_m4a + '/*.m4a')\n",
    "\n",
    "fileNum = sum(os.path.isfile(os.path.join(DIR_m4a, name)) for name in os.listdir(DIR_m4a))-1\n",
    "\n",
    "for num in range(fileNum):\n",
    "    basename_without_ext = os.path.splitext(os.path.basename(filename_m4a[num]))[0]\n",
    "    newname = DIR_wav + '/%s.wav' % basename_without_ext\n",
    "    cmd = 'ffmpeg -i %s -f wav %s' %(filename_m4a[num], newname)\n",
    "    subprocess.run(cmd, shell=True)"
   ]
  },
  {
   "cell_type": "code",
   "execution_count": 55,
   "metadata": {},
   "outputs": [],
   "source": [
    "y, sr = librosa.load(DIR_wav + '/1_J.wav', sr=16000) # y is a numpy array of the wav file, sr = sample rate\n",
    "y_shifted = librosa.effects.pitch_shift(y, sr, n_steps=2) # shifted by 4 half steps"
   ]
  },
  {
   "cell_type": "code",
   "execution_count": 56,
   "metadata": {},
   "outputs": [],
   "source": [
    "soundfile.write(DIR_wav + '/1_J3.wav', y_shifted, sr)"
   ]
  },
  {
   "cell_type": "code",
   "execution_count": null,
   "metadata": {},
   "outputs": [],
   "source": []
  }
 ],
 "metadata": {
  "kernelspec": {
   "display_name": "Python 3",
   "language": "python",
   "name": "python3"
  },
  "language_info": {
   "codemirror_mode": {
    "name": "ipython",
    "version": 3
   },
   "file_extension": ".py",
   "mimetype": "text/x-python",
   "name": "python",
   "nbconvert_exporter": "python",
   "pygments_lexer": "ipython3",
   "version": "3.8.3"
  }
 },
 "nbformat": 4,
 "nbformat_minor": 4
}

{
 "cells": [
  {
   "cell_type": "code",
   "execution_count": 1,
   "metadata": {},
   "outputs": [],
   "source": [
    "#初期設定+関数\n",
    "\n",
    "import glob\n",
    "import os\n",
    "import subprocess\n",
    "import librosa\n",
    "import datetime\n",
    "import librosa.display\n",
    "import shutil\n",
    "import time\n",
    "\n",
    "import soundfile as sf\n",
    "import numpy as np\n",
    "from matplotlib import pyplot as plt\n",
    "\n",
    "#xと一致した要素が配列の何番目かを取得\n",
    "def my_index_multi(l, x):\n",
    "    return [i for i, _x in enumerate(l) if _x == x]\n",
    "\n",
    "#フォルダの中身削除\n",
    "def remove_dir(dirname):\n",
    "    shutil.rmtree(dirname)\n",
    "    os.mkdir(dirname)"
   ]
  },
  {
   "cell_type": "code",
   "execution_count": 2,
   "metadata": {},
   "outputs": [],
   "source": [
    "#ファイルの名前づけ\n",
    "def fileRename(firstNum):\n",
    "    #変換後のフォルダ削除\n",
    "    shutil.rmtree(DIR_m4a)\n",
    "    remove_dir(DIR_m4a_change)\n",
    "    remove_dir(DIR_wav)\n",
    "    remove_dir(DIR_wav_cut)\n",
    "    remove_dir(DIR_wav_change)\n",
    "    \n",
    "    #元データをコピー\n",
    "    shutil.copytree(DIR_m4a_raw, DIR_m4a)\n",
    "    \n",
    "    cmd = 'find ' + DIR_m4a +' -name \\'.DS_Store\\' -type f -ls -delete'\n",
    "    subprocess.run(cmd, shell=True)\n",
    "    \n",
    "    xs = []\n",
    "    for root, dir, files in os.walk(DIR_m4a):\n",
    "        for f in files:\n",
    "            path = os.path.join(root, f)\n",
    "            xs.append((os.path.getmtime(path), path))\n",
    "\n",
    "    count = firstNum - 1\n",
    "    for mtime, path in sorted(xs):\n",
    "        count = count + 1\n",
    "        name = os.path.basename(path)\n",
    "        t = datetime.datetime.fromtimestamp(mtime)\n",
    "        os.rename(DIR_m4a + '/' + name,DIR_m4a_change + '/'+ LangName + '_' +'{0:04d}'.format(count) +'.m4a')"
   ]
  },
  {
   "cell_type": "code",
   "execution_count": 3,
   "metadata": {},
   "outputs": [],
   "source": [
    "#mp4をwavに変換+音声カット\n",
    "def mp4towav():\n",
    "    #global filename_m4a\n",
    "    filename_m4a = glob.glob(DIR_m4a_change + '/*.m4a')\n",
    "\n",
    "    fileNum = len(glob.glob(DIR_m4a_raw + '/*.m4a'))\n",
    "    #fileNum = sum(os.path.isfile(os.path.join(DIR_m4a_change, name)) for name in os.listdir(DIR_m4a_change))\n",
    "\n",
    "    for num in range(fileNum):\n",
    "        basename_without_ext = os.path.splitext(os.path.basename(filename_m4a[num]))[0]\n",
    "        newname = DIR_wav + '/%s.wav' % basename_without_ext\n",
    "        cmd = 'ffmpeg -i %s -f wav %s' %(filename_m4a[num], newname)\n",
    "        subprocess.run(cmd, shell=True)\n",
    "\n",
    "        #音声をカット\n",
    "        data, samplerate = sf.read(newname)\n",
    "        t = np.arange(0, len(data))/samplerate\n",
    "        b = abs(data) > 0.025 #閾値仮置き→閾値より大きい場合1,小さい場合0\n",
    "\n",
    "        high_num = my_index_multi(b, 1) #閾値を超えたデータを抜き出し\n",
    "        high_num_first = high_num[0]\n",
    "        high_num_last = high_num[-1]#配列の最後を取り出す\n",
    "\n",
    "        data_cut = data[high_num_first:high_num_last]\n",
    "\n",
    "        sf.write(DIR_wav_cut + '/%s.wav' %(basename_without_ext), data_cut, samplerate)\n",
    "        \n",
    "        #声変更\n",
    "        #y, sr = librosa.load(DIR_wav_cut + '/%s.wav' %(basename_without_ext), sr=24000) # y is a numpy array of the wav file, sr = sample rate\n",
    "        #y_shifted = librosa.effects.pitch_shift(y, sr, n_steps=2) # shifted by 4 half steps\n",
    "        #soundfile.write(DIR_wav_change + '/%s.wav' %(basename_without_ext), y_shifted, sr)"
   ]
  },
  {
   "cell_type": "code",
   "execution_count": 4,
   "metadata": {},
   "outputs": [],
   "source": [
    "#言語を選択+実行\n",
    "def Lang_select(JorT,firstNumber):\n",
    "    if 'J'==JorT:\n",
    "        DIR_lang = 'soundJapanese'\n",
    "    elif 'T'==JorT:\n",
    "        DIR_lang = 'soundTaiwanese'\n",
    "    else:\n",
    "        DIR_lang = '0'\n",
    "        print('error')\n",
    "    \n",
    "    global LangName\n",
    "    global DIR_m4a_raw\n",
    "    global DIR_m4a\n",
    "    global DIR_m4a_change\n",
    "    global DIR_wav\n",
    "    global DIR_wav_cut\n",
    "    global DIR_wav_change\n",
    "    \n",
    "    LangName = JorT\n",
    "    DIR_m4a_raw = './' + DIR_lang + '/m4a_raw'\n",
    "    DIR_m4a = './' + DIR_lang + '/m4a'\n",
    "    DIR_m4a_change = './' + DIR_lang + '/m4a_change'\n",
    "    DIR_wav =  './' + DIR_lang + '/wav'\n",
    "    DIR_wav_cut =  './' + DIR_lang + '/wav_cut'\n",
    "    DIR_wav_change =  './' + DIR_lang + '/wav_change'\n",
    "    \n",
    "    fileRename(firstNumber)\n",
    "    mp4towav()"
   ]
  },
  {
   "cell_type": "code",
   "execution_count": 5,
   "metadata": {
    "scrolled": true
   },
   "outputs": [],
   "source": [
    "Lang_select('J',1)"
   ]
  },
  {
   "cell_type": "code",
   "execution_count": null,
   "metadata": {},
   "outputs": [],
   "source": []
  },
  {
   "cell_type": "code",
   "execution_count": null,
   "metadata": {},
   "outputs": [],
   "source": []
  }
 ],
 "metadata": {
  "kernelspec": {
   "display_name": "Python 3",
   "language": "python",
   "name": "python3"
  },
  "language_info": {
   "codemirror_mode": {
    "name": "ipython",
    "version": 3
   },
   "file_extension": ".py",
   "mimetype": "text/x-python",
   "name": "python",
   "nbconvert_exporter": "python",
   "pygments_lexer": "ipython3",
   "version": "3.8.3"
  }
 },
 "nbformat": 4,
 "nbformat_minor": 4
}

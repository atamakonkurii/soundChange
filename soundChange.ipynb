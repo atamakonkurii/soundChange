{
 "cells": [
  {
   "cell_type": "code",
   "execution_count": 1,
   "metadata": {},
   "outputs": [],
   "source": [
    "import glob\n",
    "import os\n",
    "import subprocess\n",
    "import librosa\n",
    "import soundfile\n",
    "import librosa.display\n",
    "\n",
    "import soundfile as sf\n",
    "import numpy as np\n",
    "from matplotlib import pyplot as plt\n",
    "\n",
    "DIR_m4a = './soundJapanese/test'\n",
    "DIR_wav = './soundJapanese/test2'\n",
    "\n",
    "filename_m4a = glob.glob(DIR_m4a + '/*.m4a')\n",
    "\n",
    "fileNum = sum(os.path.isfile(os.path.join(DIR_m4a, name)) for name in os.listdir(DIR_m4a))-1\n",
    "\n",
    "for num in range(fileNum):\n",
    "    basename_without_ext = os.path.splitext(os.path.basename(filename_m4a[num]))[0]\n",
    "    newname = DIR_wav + '/%s.wav' % basename_without_ext\n",
    "    cmd = 'ffmpeg -i %s -f wav %s' %(filename_m4a[num], newname)\n",
    "    subprocess.run(cmd, shell=True)"
   ]
  },
  {
   "cell_type": "code",
   "execution_count": 2,
   "metadata": {},
   "outputs": [
    {
     "name": "stdout",
     "output_type": "stream",
     "text": [
      "./soundJapanese/test2/a8.wav\n"
     ]
    }
   ],
   "source": [
    "print(newname)"
   ]
  },
  {
   "cell_type": "code",
   "execution_count": 3,
   "metadata": {},
   "outputs": [],
   "source": [
    "# data, samplerate = sf.read(newname)\n",
    "data, samplerate = sf.read('./soundJapanese/test2/a3.wav')\n",
    "t = np.arange(0, len(data))/samplerate\n",
    "b = abs(data) > 0.025#閾値仮置き\n",
    "\n",
    "# plt.figure(figsize=(18, 6))\n",
    "# plt.plot(t,abs(data))\n",
    "# plt.plot(t, b)\n",
    "# plt.show()\n",
    "\n",
    "#xと一致した要素が配列の何番目かを取得\n",
    "def my_index_multi(l, x):\n",
    "    return [i for i, _x in enumerate(l) if _x == x]\n",
    "\n",
    "high_num = my_index_multi(b, 1)\n",
    "high_num_first = high_num[0]\n",
    "high_num_last = high_num[-1]#配列の最後を取り出す\n",
    "\n",
    "data_cut = data[high_num_first:high_num_last]\n",
    "\n",
    "soundfile.write(DIR_wav + '/1_J2.wav', data_cut, samplerate)"
   ]
  },
  {
   "cell_type": "code",
   "execution_count": 4,
   "metadata": {},
   "outputs": [],
   "source": [
    "#y, sr = librosa.load(DIR_wav + '/1_J.wav', sr=16000) # y is a numpy array of the wav file, sr = sample rate\n",
    "#y_shifted = librosa.effects.pitch_shift(y, sr, n_steps=2) # shifted by 4 half steps"
   ]
  },
  {
   "cell_type": "code",
   "execution_count": 5,
   "metadata": {},
   "outputs": [
    {
     "name": "stdout",
     "output_type": "stream",
     "text": [
      "2021-01-17 18:41:54\n",
      "2021-01-17 18:42:05\n",
      "2021-01-17 18:42:17\n"
     ]
    }
   ],
   "source": [
    "import datetime\n",
    "import os\n",
    "\n",
    "p1 = './soundJapanese/test/a7.m4a'\n",
    "p2 = './soundJapanese/test/a8.m4a'\n",
    "p3 = './soundJapanese/test/a9.m4a'\n",
    "\n",
    "t1 = os.stat(p1).st_birthtime\n",
    "t2 = os.stat(p2).st_birthtime\n",
    "t3 = os.stat(p3).st_birthtime\n",
    "\n",
    "d1 = datetime.datetime.fromtimestamp(t1)\n",
    "d2 = datetime.datetime.fromtimestamp(t2)\n",
    "d3 = datetime.datetime.fromtimestamp(t3)\n",
    "\n",
    "print(d1)\n",
    "print(d2)\n",
    "print(d3)"
   ]
  },
  {
   "cell_type": "code",
   "execution_count": 6,
   "metadata": {},
   "outputs": [],
   "source": [
    "d = d3 > d2"
   ]
  },
  {
   "cell_type": "code",
   "execution_count": 7,
   "metadata": {},
   "outputs": [
    {
     "name": "stdout",
     "output_type": "stream",
     "text": [
      "True\n"
     ]
    }
   ],
   "source": [
    "print(d)"
   ]
  },
  {
   "cell_type": "code",
   "execution_count": 17,
   "metadata": {},
   "outputs": [
    {
     "name": "stdout",
     "output_type": "stream",
     "text": [
      "03\n",
      "2021-01-15 07:05:33 a001.m4a\n",
      "03\n",
      "2021-01-15 07:05:33 a002.m4a\n",
      "03\n",
      "2021-01-15 07:05:45 a003.m4a\n",
      "03\n",
      "2021-01-15 07:05:45 a004.m4a\n",
      "03\n",
      "2021-01-15 07:05:50 a005.m4a\n",
      "03\n",
      "2021-01-15 07:05:50 a006.m4a\n",
      "03\n",
      "2021-01-17 18:41:54 a007.m4a\n",
      "03\n",
      "2021-01-17 18:42:05 a008.m4a\n",
      "03\n",
      "2021-01-17 18:42:17 a009.m4a\n",
      "03\n",
      "2021-01-17 18:43:10.067213 a010.m4a\n"
     ]
    }
   ],
   "source": [
    "def sort_rename(rootdir):\n",
    "    xs = []\n",
    "    for root, dir, files in os.walk(rootdir):\n",
    "        for f in files:\n",
    "            path = os.path.join(root, f)\n",
    "            xs.append((os.path.getmtime(path), path))\n",
    "\n",
    "    count = 0\n",
    "    for mtime, path in sorted(xs):\n",
    "        count = count + 1\n",
    "        name = os.path.basename(path)\n",
    "        t = datetime.datetime.fromtimestamp(mtime)\n",
    "        os.rename(rootdir + '/' + name,rootdir + '/a' +  '{0:04d}'.format(count) + '.m4a')\n",
    "        print('{0:02d}'.format(3))\n",
    "        # => 03\n",
    "        print(t, name)\n",
    "        \n",
    "sort_rename('./soundJapanese/test')"
   ]
  },
  {
   "cell_type": "code",
   "execution_count": 11,
   "metadata": {},
   "outputs": [
    {
     "ename": "NameError",
     "evalue": "name 'name' is not defined",
     "output_type": "error",
     "traceback": [
      "\u001b[0;31m---------------------------------------------------------------------------\u001b[0m",
      "\u001b[0;31mNameError\u001b[0m                                 Traceback (most recent call last)",
      "\u001b[0;32m<ipython-input-11-9ba126b17b03>\u001b[0m in \u001b[0;36m<module>\u001b[0;34m\u001b[0m\n\u001b[0;32m----> 1\u001b[0;31m \u001b[0mprint\u001b[0m\u001b[0;34m(\u001b[0m\u001b[0mname\u001b[0m\u001b[0;34m)\u001b[0m\u001b[0;34m\u001b[0m\u001b[0;34m\u001b[0m\u001b[0m\n\u001b[0m",
      "\u001b[0;31mNameError\u001b[0m: name 'name' is not defined"
     ]
    }
   ],
   "source": [
    "print(name)"
   ]
  },
  {
   "cell_type": "code",
   "execution_count": null,
   "metadata": {},
   "outputs": [],
   "source": []
  }
 ],
 "metadata": {
  "kernelspec": {
   "display_name": "Python 3",
   "language": "python",
   "name": "python3"
  },
  "language_info": {
   "codemirror_mode": {
    "name": "ipython",
    "version": 3
   },
   "file_extension": ".py",
   "mimetype": "text/x-python",
   "name": "python",
   "nbconvert_exporter": "python",
   "pygments_lexer": "ipython3",
   "version": "3.8.3"
  }
 },
 "nbformat": 4,
 "nbformat_minor": 4
}
